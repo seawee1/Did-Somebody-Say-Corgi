{
 "cells": [
  {
   "cell_type": "markdown",
   "metadata": {},
   "source": [
    "# Data Preparation"
   ]
  },
  {
   "cell_type": "code",
   "execution_count": 1,
   "metadata": {},
   "outputs": [],
   "source": [
    "from os.path import join as opjoin\n",
    "import pandas as pd\n",
    "import numpy as np\n",
    "from PIL import Image\n",
    "from pathlib import Path\n",
    "import os"
   ]
  },
  {
   "cell_type": "code",
   "execution_count": 2,
   "metadata": {},
   "outputs": [
    {
     "name": "stdout",
     "output_type": "stream",
     "text": [
      "4967 submissions loaded...\n"
     ]
    }
   ],
   "source": [
    "#dataset_path = '/mnt/fred/reddit/database_1597063213/'\n",
    "dataset_path = 'H://reddit/corgis/'\n",
    "df = pd.read_csv(opjoin(dataset_path, 'submissions_.csv'))\n",
    "print('{} submissions loaded...'.format(len(df)))"
   ]
  },
  {
   "cell_type": "code",
   "execution_count": 3,
   "metadata": {},
   "outputs": [
    {
     "data": {
      "text/html": [
       "<div>\n",
       "<style scoped>\n",
       "    .dataframe tbody tr th:only-of-type {\n",
       "        vertical-align: middle;\n",
       "    }\n",
       "\n",
       "    .dataframe tbody tr th {\n",
       "        vertical-align: top;\n",
       "    }\n",
       "\n",
       "    .dataframe thead th {\n",
       "        text-align: right;\n",
       "    }\n",
       "</style>\n",
       "<table border=\"1\" class=\"dataframe\">\n",
       "  <thead>\n",
       "    <tr style=\"text-align: right;\">\n",
       "      <th></th>\n",
       "      <th>author</th>\n",
       "      <th>created_utc</th>\n",
       "      <th>id</th>\n",
       "      <th>is_video</th>\n",
       "      <th>num_comments</th>\n",
       "      <th>permalink</th>\n",
       "      <th>score</th>\n",
       "      <th>title</th>\n",
       "      <th>url</th>\n",
       "      <th>flagged</th>\n",
       "      <th>bboxX</th>\n",
       "      <th>bboxY</th>\n",
       "      <th>bboxSize</th>\n",
       "    </tr>\n",
       "  </thead>\n",
       "  <tbody>\n",
       "    <tr>\n",
       "      <th>0</th>\n",
       "      <td>si102dk</td>\n",
       "      <td>1595628805</td>\n",
       "      <td>hxb6s4</td>\n",
       "      <td>False</td>\n",
       "      <td>26</td>\n",
       "      <td>/r/corgi/comments/hxb6s4/most_boopable_snout_e...</td>\n",
       "      <td>545</td>\n",
       "      <td>Most boopable snout ever look for my corgi</td>\n",
       "      <td>https://i.redd.it/mvtcj8gtpvc51.png</td>\n",
       "      <td>False</td>\n",
       "      <td>0.0</td>\n",
       "      <td>3.0</td>\n",
       "      <td>750.0</td>\n",
       "    </tr>\n",
       "    <tr>\n",
       "      <th>1</th>\n",
       "      <td>BrujaMala13</td>\n",
       "      <td>1595592713</td>\n",
       "      <td>hx0non</td>\n",
       "      <td>False</td>\n",
       "      <td>31</td>\n",
       "      <td>/r/corgi/comments/hx0non/please_welcome_scarle...</td>\n",
       "      <td>800</td>\n",
       "      <td>Please Welcome Scarlet Pumpernickel 🥰</td>\n",
       "      <td>https://i.redd.it/q1balemtqsc51.jpg</td>\n",
       "      <td>False</td>\n",
       "      <td>0.0</td>\n",
       "      <td>209.0</td>\n",
       "      <td>1020.0</td>\n",
       "    </tr>\n",
       "    <tr>\n",
       "      <th>2</th>\n",
       "      <td>ricardotacopaco</td>\n",
       "      <td>1595528615</td>\n",
       "      <td>hwkzd8</td>\n",
       "      <td>False</td>\n",
       "      <td>24</td>\n",
       "      <td>/r/corgi/comments/hwkzd8/bring_your_loaf_to_wo...</td>\n",
       "      <td>195</td>\n",
       "      <td>Bring your loaf to work day was a success</td>\n",
       "      <td>https://i.redd.it/4panlr58gnc51.jpg</td>\n",
       "      <td>False</td>\n",
       "      <td>208.0</td>\n",
       "      <td>174.0</td>\n",
       "      <td>2004.0</td>\n",
       "    </tr>\n",
       "    <tr>\n",
       "      <th>3</th>\n",
       "      <td>jafiswert</td>\n",
       "      <td>1595523557</td>\n",
       "      <td>hwjc74</td>\n",
       "      <td>False</td>\n",
       "      <td>18</td>\n",
       "      <td>/r/corgi/comments/hwjc74/ellie_our_latest_addi...</td>\n",
       "      <td>724</td>\n",
       "      <td>Ellie, our latest addition to our family. She ...</td>\n",
       "      <td>https://i.redd.it/qjdg2im61nc51.jpg</td>\n",
       "      <td>False</td>\n",
       "      <td>0.0</td>\n",
       "      <td>244.0</td>\n",
       "      <td>3024.0</td>\n",
       "    </tr>\n",
       "    <tr>\n",
       "      <th>4</th>\n",
       "      <td>dycbaylor02</td>\n",
       "      <td>1595522754</td>\n",
       "      <td>hwj2yi</td>\n",
       "      <td>False</td>\n",
       "      <td>18</td>\n",
       "      <td>/r/corgi/comments/hwj2yi/waiting_on_a_snack/</td>\n",
       "      <td>885</td>\n",
       "      <td>Waiting on a snack</td>\n",
       "      <td>https://i.redd.it/i8ind3osymc51.jpg</td>\n",
       "      <td>False</td>\n",
       "      <td>72.0</td>\n",
       "      <td>771.0</td>\n",
       "      <td>2624.0</td>\n",
       "    </tr>\n",
       "  </tbody>\n",
       "</table>\n",
       "</div>"
      ],
      "text/plain": [
       "            author  created_utc      id is_video num_comments  \\\n",
       "0          si102dk   1595628805  hxb6s4    False           26   \n",
       "1      BrujaMala13   1595592713  hx0non    False           31   \n",
       "2  ricardotacopaco   1595528615  hwkzd8    False           24   \n",
       "3        jafiswert   1595523557  hwjc74    False           18   \n",
       "4      dycbaylor02   1595522754  hwj2yi    False           18   \n",
       "\n",
       "                                           permalink score  \\\n",
       "0  /r/corgi/comments/hxb6s4/most_boopable_snout_e...   545   \n",
       "1  /r/corgi/comments/hx0non/please_welcome_scarle...   800   \n",
       "2  /r/corgi/comments/hwkzd8/bring_your_loaf_to_wo...   195   \n",
       "3  /r/corgi/comments/hwjc74/ellie_our_latest_addi...   724   \n",
       "4       /r/corgi/comments/hwj2yi/waiting_on_a_snack/   885   \n",
       "\n",
       "                                               title  \\\n",
       "0         Most boopable snout ever look for my corgi   \n",
       "1              Please Welcome Scarlet Pumpernickel 🥰   \n",
       "2          Bring your loaf to work day was a success   \n",
       "3  Ellie, our latest addition to our family. She ...   \n",
       "4                                 Waiting on a snack   \n",
       "\n",
       "                                   url  flagged  bboxX  bboxY  bboxSize  \n",
       "0  https://i.redd.it/mvtcj8gtpvc51.png    False    0.0    3.0     750.0  \n",
       "1  https://i.redd.it/q1balemtqsc51.jpg    False    0.0  209.0    1020.0  \n",
       "2  https://i.redd.it/4panlr58gnc51.jpg    False  208.0  174.0    2004.0  \n",
       "3  https://i.redd.it/qjdg2im61nc51.jpg    False    0.0  244.0    3024.0  \n",
       "4  https://i.redd.it/i8ind3osymc51.jpg    False   72.0  771.0    2624.0  "
      ]
     },
     "execution_count": 3,
     "metadata": {},
     "output_type": "execute_result"
    }
   ],
   "source": [
    "df.head()"
   ]
  },
  {
   "cell_type": "code",
   "execution_count": 21,
   "metadata": {},
   "outputs": [
    {
     "name": "stdout",
     "output_type": "stream",
     "text": [
      "3280\n"
     ]
    }
   ],
   "source": [
    "print(len(df[~pd.isnull(df['bboxX'])].index.tolist()))"
   ]
  },
  {
   "cell_type": "code",
   "execution_count": 4,
   "metadata": {},
   "outputs": [],
   "source": [
    "df_clean = df[df['flagged'] == False]\n",
    "\n",
    "Path(opjoin(dataset_path, 'images', '256')).mkdir(exist_ok=True)\n",
    "Path(opjoin(dataset_path, 'images', '512')).mkdir(exist_ok=True)\n",
    "Path(opjoin(dataset_path, 'images', '1024')).mkdir(exist_ok=True)\n",
    "\n",
    "flagged = []\n",
    "for i, x in df_clean.iterrows():\n",
    "    imagepath = opjoin(dataset_path, 'images', x['id'])\n",
    "    if os.path.isfile(imagepath + '.jpeg'):\n",
    "        imagepath += '.jpeg'\n",
    "    elif os.path.isfile(imagepath + '.png'):\n",
    "        imagepath += '.png'\n",
    "    else:\n",
    "        continue\n",
    "        \n",
    "    try:\n",
    "        im = Image.open(imagepath)\n",
    "        im = im.convert('RGB')\n",
    "    except:\n",
    "        continue\n",
    "        \n",
    "    if im.size[0] < 700 or im.size[1] < 700:\n",
    "        flagged.append(True)\n",
    "        continue\n",
    "        \n",
    "    a = x['bboxX']\n",
    "    b = x['bboxY']\n",
    "    c = x['bboxSize']\n",
    "    \n",
    "    #im_cropped = im.crop((a, b, a+c, b+c))\n",
    "    #for size in [256, 512, 1024]:\n",
    "    #    im_resized = im_cropped.resize((size, size))\n",
    "    #    im_resized.save(opjoin(dataset_path, 'images', str(size), x['id']+'.jpg'), 'JPEG')\n",
    "        \n",
    "    flagged.append(False)"
   ]
  },
  {
   "cell_type": "code",
   "execution_count": 16,
   "metadata": {},
   "outputs": [
    {
     "name": "stdout",
     "output_type": "stream",
     "text": [
      "[False False False ... False  True  True]\n"
     ]
    }
   ],
   "source": [
    "flagged = pd.Series(flagged, index=df_clean.index)\n",
    "df_clean = df_clean[flagged.values == False]"
   ]
  },
  {
   "cell_type": "code",
   "execution_count": 17,
   "metadata": {},
   "outputs": [],
   "source": [
    "df_clean.to_csv(opjoin(dataset_path, 'submissions_clean.csv'), index=False)"
   ]
  },
  {
   "cell_type": "markdown",
   "metadata": {},
   "source": [
    "# Mask RCNN"
   ]
  },
  {
   "cell_type": "code",
   "execution_count": 18,
   "metadata": {},
   "outputs": [
    {
     "ename": "ModuleNotFoundError",
     "evalue": "No module named 'torch'",
     "output_type": "error",
     "traceback": [
      "\u001b[1;31m---------------------------------------------------------------------------\u001b[0m",
      "\u001b[1;31mModuleNotFoundError\u001b[0m                       Traceback (most recent call last)",
      "\u001b[1;32m<ipython-input-18-ebd925573c40>\u001b[0m in \u001b[0;36m<module>\u001b[1;34m\u001b[0m\n\u001b[1;32m----> 1\u001b[1;33m \u001b[1;32mimport\u001b[0m \u001b[0mtorch\u001b[0m\u001b[1;33m\u001b[0m\u001b[1;33m\u001b[0m\u001b[0m\n\u001b[0m\u001b[0;32m      2\u001b[0m \u001b[1;32mimport\u001b[0m \u001b[0mtorchvision\u001b[0m\u001b[1;33m\u001b[0m\u001b[1;33m\u001b[0m\u001b[0m\n\u001b[0;32m      3\u001b[0m \u001b[0mtorch\u001b[0m\u001b[1;33m.\u001b[0m\u001b[0mcuda\u001b[0m\u001b[1;33m.\u001b[0m\u001b[0mis_available\u001b[0m\u001b[1;33m(\u001b[0m\u001b[1;33m)\u001b[0m\u001b[1;33m\u001b[0m\u001b[1;33m\u001b[0m\u001b[0m\n",
      "\u001b[1;31mModuleNotFoundError\u001b[0m: No module named 'torch'"
     ]
    }
   ],
   "source": [
    "import torch\n",
    "import torchvision\n",
    "torch.cuda.is_available()"
   ]
  }
 ],
 "metadata": {
  "kernelspec": {
   "display_name": "Python 3",
   "language": "python",
   "name": "python3"
  },
  "language_info": {
   "codemirror_mode": {
    "name": "ipython",
    "version": 3
   },
   "file_extension": ".py",
   "mimetype": "text/x-python",
   "name": "python",
   "nbconvert_exporter": "python",
   "pygments_lexer": "ipython3",
   "version": "3.7.7"
  }
 },
 "nbformat": 4,
 "nbformat_minor": 4
}
