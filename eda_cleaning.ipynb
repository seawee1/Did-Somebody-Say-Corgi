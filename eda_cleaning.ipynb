{
 "cells": [
  {
   "cell_type": "markdown",
   "metadata": {},
   "source": [
    "# **EDA and Data Cleaning**"
   ]
  },
  {
   "cell_type": "code",
   "execution_count": 1,
   "metadata": {},
   "outputs": [],
   "source": [
    "import pandas as pd\n",
    "import os\n",
    "from os.path import join as opjoin\n",
    "from glob import glob\n",
    "from PIL import Image, ExifTags\n",
    "import seaborn as sns\n",
    "import matplotlib.pyplot as plt\n",
    "import numpy as np\n",
    "import math\n",
    "%matplotlib inline \n",
    "sns.set(color_codes=True)"
   ]
  },
  {
   "cell_type": "code",
   "execution_count": 2,
   "metadata": {},
   "outputs": [
    {
     "name": "stdout",
     "output_type": "stream",
     "text": [
      "7995 submissions loaded...\n"
     ]
    }
   ],
   "source": [
    "#dataset_path = '/mnt/fred/reddit/database_1597063213/'\n",
    "dataset_path = 'H://reddit/database_1597138244/'\n",
    "df = pd.read_csv(opjoin(dataset_path, 'submissions.csv'))\n",
    "print('{} submissions loaded...'.format(len(df)))"
   ]
  },
  {
   "cell_type": "code",
   "execution_count": 3,
   "metadata": {},
   "outputs": [
    {
     "data": {
      "text/html": [
       "<div>\n",
       "<style scoped>\n",
       "    .dataframe tbody tr th:only-of-type {\n",
       "        vertical-align: middle;\n",
       "    }\n",
       "\n",
       "    .dataframe tbody tr th {\n",
       "        vertical-align: top;\n",
       "    }\n",
       "\n",
       "    .dataframe thead th {\n",
       "        text-align: right;\n",
       "    }\n",
       "</style>\n",
       "<table border=\"1\" class=\"dataframe\">\n",
       "  <thead>\n",
       "    <tr style=\"text-align: right;\">\n",
       "      <th></th>\n",
       "      <th>author</th>\n",
       "      <th>created_utc</th>\n",
       "      <th>id</th>\n",
       "      <th>is_video</th>\n",
       "      <th>num_comments</th>\n",
       "      <th>permalink</th>\n",
       "      <th>score</th>\n",
       "      <th>title</th>\n",
       "      <th>url</th>\n",
       "    </tr>\n",
       "  </thead>\n",
       "  <tbody>\n",
       "    <tr>\n",
       "      <th>0</th>\n",
       "      <td>Kelly240361</td>\n",
       "      <td>1595662427</td>\n",
       "      <td>hxitxn</td>\n",
       "      <td>False</td>\n",
       "      <td>43</td>\n",
       "      <td>/r/NatureIsFuckingLit/comments/hxitxn/cliffs_a...</td>\n",
       "      <td>161</td>\n",
       "      <td>🔥 Cliffs at Dorset, England</td>\n",
       "      <td>https://i.imgur.com/7XUQeg7.jpg</td>\n",
       "    </tr>\n",
       "    <tr>\n",
       "      <th>1</th>\n",
       "      <td>redditsdaddio</td>\n",
       "      <td>1595640242</td>\n",
       "      <td>hxe5kk</td>\n",
       "      <td>False</td>\n",
       "      <td>27</td>\n",
       "      <td>/r/NatureIsFuckingLit/comments/hxe5kk/piebald_...</td>\n",
       "      <td>343</td>\n",
       "      <td>🔥 Piebald Deer 🔥</td>\n",
       "      <td>https://i.redd.it/ex7x37i5owc51.jpg</td>\n",
       "    </tr>\n",
       "    <tr>\n",
       "      <th>2</th>\n",
       "      <td>jillison_flook</td>\n",
       "      <td>1595625776</td>\n",
       "      <td>hxadzw</td>\n",
       "      <td>False</td>\n",
       "      <td>53</td>\n",
       "      <td>/r/NatureIsFuckingLit/comments/hxadzw/ocelittle/</td>\n",
       "      <td>419</td>\n",
       "      <td>🔥 Ocelittle 🔥</td>\n",
       "      <td>https://i.redd.it/glqvqmo4hvc51.jpg</td>\n",
       "    </tr>\n",
       "    <tr>\n",
       "      <th>3</th>\n",
       "      <td>d3333p7</td>\n",
       "      <td>1595621456</td>\n",
       "      <td>hx931q</td>\n",
       "      <td>False</td>\n",
       "      <td>34</td>\n",
       "      <td>/r/NatureIsFuckingLit/comments/hx931q/bear_chi...</td>\n",
       "      <td>471</td>\n",
       "      <td>🔥 Bear chilling by a lake</td>\n",
       "      <td>https://i.imgur.com/AxUPw0W.jpg</td>\n",
       "    </tr>\n",
       "    <tr>\n",
       "      <th>4</th>\n",
       "      <td>exoduscv</td>\n",
       "      <td>1595619724</td>\n",
       "      <td>hx8k16</td>\n",
       "      <td>False</td>\n",
       "      <td>32</td>\n",
       "      <td>/r/NatureIsFuckingLit/comments/hx8k16/water_dr...</td>\n",
       "      <td>651</td>\n",
       "      <td>🔥 Water droplets condensing on a fly 🔥</td>\n",
       "      <td>https://i.redd.it/j93cmny4zuc51.jpg</td>\n",
       "    </tr>\n",
       "  </tbody>\n",
       "</table>\n",
       "</div>"
      ],
      "text/plain": [
       "           author  created_utc      id  is_video  num_comments  \\\n",
       "0     Kelly240361   1595662427  hxitxn     False            43   \n",
       "1   redditsdaddio   1595640242  hxe5kk     False            27   \n",
       "2  jillison_flook   1595625776  hxadzw     False            53   \n",
       "3         d3333p7   1595621456  hx931q     False            34   \n",
       "4        exoduscv   1595619724  hx8k16     False            32   \n",
       "\n",
       "                                           permalink  score  \\\n",
       "0  /r/NatureIsFuckingLit/comments/hxitxn/cliffs_a...    161   \n",
       "1  /r/NatureIsFuckingLit/comments/hxe5kk/piebald_...    343   \n",
       "2   /r/NatureIsFuckingLit/comments/hxadzw/ocelittle/    419   \n",
       "3  /r/NatureIsFuckingLit/comments/hx931q/bear_chi...    471   \n",
       "4  /r/NatureIsFuckingLit/comments/hx8k16/water_dr...    651   \n",
       "\n",
       "                                    title                                  url  \n",
       "0             🔥 Cliffs at Dorset, England      https://i.imgur.com/7XUQeg7.jpg  \n",
       "1                        🔥 Piebald Deer 🔥  https://i.redd.it/ex7x37i5owc51.jpg  \n",
       "2                           🔥 Ocelittle 🔥  https://i.redd.it/glqvqmo4hvc51.jpg  \n",
       "3               🔥 Bear chilling by a lake      https://i.imgur.com/AxUPw0W.jpg  \n",
       "4  🔥 Water droplets condensing on a fly 🔥  https://i.redd.it/j93cmny4zuc51.jpg  "
      ]
     },
     "execution_count": 3,
     "metadata": {},
     "output_type": "execute_result"
    }
   ],
   "source": [
    "df.head()"
   ]
  },
  {
   "cell_type": "markdown",
   "metadata": {},
   "source": [
    "## **Image Data**"
   ]
  },
  {
   "cell_type": "markdown",
   "metadata": {},
   "source": [
    "### **Data Cleaning**"
   ]
  },
  {
   "cell_type": "markdown",
   "metadata": {},
   "source": [
    "**We first check if the image file of a submissions is present and healty (can be opened by PIL) and remove affected submissions from the dataframe. Image filename, width and height are furthermore extracted and added to the dataframe for means of convenient data exploration.**"
   ]
  },
  {
   "cell_type": "code",
   "execution_count": 4,
   "metadata": {},
   "outputs": [
    {
     "name": "stdout",
     "output_type": "stream",
     "text": [
      "7972 images found, 23 dirty submissions...\n"
     ]
    }
   ],
   "source": [
    "img_sizes = []\n",
    "filenames = []\n",
    "dirty = []\n",
    "for id in df['id']:\n",
    "    filepath = glob(opjoin(dataset_path, 'images', id + '*'))[0]\n",
    "    try:\n",
    "        img = Image.open(filepath)\n",
    "        img_sizes.append(list(img.size))\n",
    "        \n",
    "        head, tail = os.path.split(filepath)\n",
    "        filenames.append(tail)\n",
    "    except:\n",
    "        dirty.append(id)\n",
    "    \n",
    "print('{} images found, {} dirty submissions...'.format(len(img_sizes), len(dirty)))"
   ]
  },
  {
   "cell_type": "code",
   "execution_count": 5,
   "metadata": {},
   "outputs": [
    {
     "data": {
      "text/html": [
       "<div>\n",
       "<style scoped>\n",
       "    .dataframe tbody tr th:only-of-type {\n",
       "        vertical-align: middle;\n",
       "    }\n",
       "\n",
       "    .dataframe tbody tr th {\n",
       "        vertical-align: top;\n",
       "    }\n",
       "\n",
       "    .dataframe thead th {\n",
       "        text-align: right;\n",
       "    }\n",
       "</style>\n",
       "<table border=\"1\" class=\"dataframe\">\n",
       "  <thead>\n",
       "    <tr style=\"text-align: right;\">\n",
       "      <th></th>\n",
       "      <th>author</th>\n",
       "      <th>created_utc</th>\n",
       "      <th>id</th>\n",
       "      <th>is_video</th>\n",
       "      <th>num_comments</th>\n",
       "      <th>permalink</th>\n",
       "      <th>score</th>\n",
       "      <th>title</th>\n",
       "      <th>url</th>\n",
       "      <th>width</th>\n",
       "      <th>height</th>\n",
       "      <th>imgfile</th>\n",
       "    </tr>\n",
       "  </thead>\n",
       "  <tbody>\n",
       "    <tr>\n",
       "      <th>0</th>\n",
       "      <td>Kelly240361</td>\n",
       "      <td>1595662427</td>\n",
       "      <td>hxitxn</td>\n",
       "      <td>False</td>\n",
       "      <td>43</td>\n",
       "      <td>/r/NatureIsFuckingLit/comments/hxitxn/cliffs_a...</td>\n",
       "      <td>161</td>\n",
       "      <td>🔥 Cliffs at Dorset, England</td>\n",
       "      <td>https://i.imgur.com/7XUQeg7.jpg</td>\n",
       "      <td>480</td>\n",
       "      <td>599</td>\n",
       "      <td>hxitxn.jpeg</td>\n",
       "    </tr>\n",
       "    <tr>\n",
       "      <th>1</th>\n",
       "      <td>redditsdaddio</td>\n",
       "      <td>1595640242</td>\n",
       "      <td>hxe5kk</td>\n",
       "      <td>False</td>\n",
       "      <td>27</td>\n",
       "      <td>/r/NatureIsFuckingLit/comments/hxe5kk/piebald_...</td>\n",
       "      <td>343</td>\n",
       "      <td>🔥 Piebald Deer 🔥</td>\n",
       "      <td>https://i.redd.it/ex7x37i5owc51.jpg</td>\n",
       "      <td>130</td>\n",
       "      <td>60</td>\n",
       "      <td>hxe5kk.jpeg</td>\n",
       "    </tr>\n",
       "    <tr>\n",
       "      <th>2</th>\n",
       "      <td>jillison_flook</td>\n",
       "      <td>1595625776</td>\n",
       "      <td>hxadzw</td>\n",
       "      <td>False</td>\n",
       "      <td>53</td>\n",
       "      <td>/r/NatureIsFuckingLit/comments/hxadzw/ocelittle/</td>\n",
       "      <td>419</td>\n",
       "      <td>🔥 Ocelittle 🔥</td>\n",
       "      <td>https://i.redd.it/glqvqmo4hvc51.jpg</td>\n",
       "      <td>1200</td>\n",
       "      <td>1179</td>\n",
       "      <td>hxadzw.jpeg</td>\n",
       "    </tr>\n",
       "    <tr>\n",
       "      <th>3</th>\n",
       "      <td>d3333p7</td>\n",
       "      <td>1595621456</td>\n",
       "      <td>hx931q</td>\n",
       "      <td>False</td>\n",
       "      <td>34</td>\n",
       "      <td>/r/NatureIsFuckingLit/comments/hx931q/bear_chi...</td>\n",
       "      <td>471</td>\n",
       "      <td>🔥 Bear chilling by a lake</td>\n",
       "      <td>https://i.imgur.com/AxUPw0W.jpg</td>\n",
       "      <td>1080</td>\n",
       "      <td>565</td>\n",
       "      <td>hx931q.jpeg</td>\n",
       "    </tr>\n",
       "    <tr>\n",
       "      <th>4</th>\n",
       "      <td>exoduscv</td>\n",
       "      <td>1595619724</td>\n",
       "      <td>hx8k16</td>\n",
       "      <td>False</td>\n",
       "      <td>32</td>\n",
       "      <td>/r/NatureIsFuckingLit/comments/hx8k16/water_dr...</td>\n",
       "      <td>651</td>\n",
       "      <td>🔥 Water droplets condensing on a fly 🔥</td>\n",
       "      <td>https://i.redd.it/j93cmny4zuc51.jpg</td>\n",
       "      <td>1080</td>\n",
       "      <td>1350</td>\n",
       "      <td>hx8k16.jpeg</td>\n",
       "    </tr>\n",
       "  </tbody>\n",
       "</table>\n",
       "</div>"
      ],
      "text/plain": [
       "           author  created_utc      id  is_video  num_comments  \\\n",
       "0     Kelly240361   1595662427  hxitxn     False            43   \n",
       "1   redditsdaddio   1595640242  hxe5kk     False            27   \n",
       "2  jillison_flook   1595625776  hxadzw     False            53   \n",
       "3         d3333p7   1595621456  hx931q     False            34   \n",
       "4        exoduscv   1595619724  hx8k16     False            32   \n",
       "\n",
       "                                           permalink  score  \\\n",
       "0  /r/NatureIsFuckingLit/comments/hxitxn/cliffs_a...    161   \n",
       "1  /r/NatureIsFuckingLit/comments/hxe5kk/piebald_...    343   \n",
       "2   /r/NatureIsFuckingLit/comments/hxadzw/ocelittle/    419   \n",
       "3  /r/NatureIsFuckingLit/comments/hx931q/bear_chi...    471   \n",
       "4  /r/NatureIsFuckingLit/comments/hx8k16/water_dr...    651   \n",
       "\n",
       "                                    title  \\\n",
       "0             🔥 Cliffs at Dorset, England   \n",
       "1                        🔥 Piebald Deer 🔥   \n",
       "2                           🔥 Ocelittle 🔥   \n",
       "3               🔥 Bear chilling by a lake   \n",
       "4  🔥 Water droplets condensing on a fly 🔥   \n",
       "\n",
       "                                   url  width  height      imgfile  \n",
       "0      https://i.imgur.com/7XUQeg7.jpg    480     599  hxitxn.jpeg  \n",
       "1  https://i.redd.it/ex7x37i5owc51.jpg    130      60  hxe5kk.jpeg  \n",
       "2  https://i.redd.it/glqvqmo4hvc51.jpg   1200    1179  hxadzw.jpeg  \n",
       "3      https://i.imgur.com/AxUPw0W.jpg   1080     565  hx931q.jpeg  \n",
       "4  https://i.redd.it/j93cmny4zuc51.jpg   1080    1350  hx8k16.jpeg  "
      ]
     },
     "execution_count": 5,
     "metadata": {},
     "output_type": "execute_result"
    }
   ],
   "source": [
    "df = df[~df['id'].isin(dirty)]\n",
    "df['width'] = list(zip(*img_sizes))[0]\n",
    "df['height'] = list(zip(*img_sizes))[1]\n",
    "df['imgfile'] = filenames\n",
    "df.head()"
   ]
  },
  {
   "cell_type": "markdown",
   "metadata": {},
   "source": [
    "**A look at the image size histograms shows a spike for certain image width/height combinations. Those are dummy images served by the host server in case a requested image has been deleted. Such submissions can't be used for our purposes and are thus also remove from the dataframe.**"
   ]
  },
  {
   "cell_type": "code",
   "execution_count": 6,
   "metadata": {},
   "outputs": [
    {
     "data": {
      "text/plain": [
       "<seaborn.axisgrid.JointGrid at 0x284bd474b08>"
      ]
     },
     "execution_count": 6,
     "metadata": {},
     "output_type": "execute_result"
    },
    {
     "data": {
      "image/png": "[encoded data removed]",
      "text/plain": [
       "<Figure size 432x432 with 3 Axes>"
      ]
     },
     "metadata": {},
     "output_type": "display_data"
    },
    {
     "data": {
      "image/png": "[encoded data removed]",
      "text/plain": [
       "<Figure size 432x432 with 3 Axes>"
      ]
     },
     "metadata": {},
     "output_type": "display_data"
    }
   ],
   "source": [
    "sns.jointplot(x='width', y='height', data=df)\n",
    "sns.jointplot(x='width', y='height', data=df[(df['width'] <= 512) & (df['height'] <= 512)])"
   ]
  },
  {
   "cell_type": "code",
   "execution_count": 7,
   "metadata": {},
   "outputs": [
    {
     "data": {
      "image/png": "[encoded data removed]",
      "text/plain": [
       "<Figure size 432x288 with 4 Axes>"
      ]
     },
     "metadata": {},
     "output_type": "display_data"
    }
   ],
   "source": [
    "df_small = df[(df['width'] <= 256) & (df['height'] <= 256)]\n",
    "df_small_unique = df_small.drop_duplicates(['width', 'height'])\n",
    "fig, ax = plt.subplots(1, len(df_small_unique))\n",
    "for i, (index, row) in enumerate(df_small_unique.iterrows()):\n",
    "    img = Image.open(opjoin(dataset_path, 'images', row['imgfile']))\n",
    "    img_arr = np.asarray(img)\n",
    "    ax[i].set_title('{}x{}'.format(row['width'], row['height']))\n",
    "    ax[i].grid(False)\n",
    "    ax[i].imshow(img_arr)\n",
    "plt.show()"
   ]
  },
  {
   "cell_type": "code",
   "execution_count": 8,
   "metadata": {},
   "outputs": [
    {
     "name": "stdout",
     "output_type": "stream",
     "text": [
      "1071 images were already deleted...\n"
     ]
    }
   ],
   "source": [
    "oldLen = len(df)\n",
    "condition = ((df['width'] == 130) & (df['height'] == 60)) | ((df['width'] == 161) & (df['height'] == 81))\n",
    "df = df[~condition]\n",
    "print('{} images were already deleted...'.format(oldLen - len(df)))"
   ]
  },
  {
   "cell_type": "markdown",
   "metadata": {},
   "source": [
    "**Save cleaned dataframe to new file.**"
   ]
  },
  {
   "cell_type": "code",
   "execution_count": 9,
   "metadata": {},
   "outputs": [],
   "source": [
    "with open(opjoin(dataset_path, 'submissions_.csv'), 'w', encoding='utf-8') as f:\n",
    "    df.to_csv(f, index = False, line_terminator='\\n')"
   ]
  },
  {
   "cell_type": "markdown",
   "metadata": {},
   "source": [
    "## **Data Exploration**"
   ]
  },
  {
   "cell_type": "code",
   "execution_count": null,
   "metadata": {},
   "outputs": [],
   "source": []
  }
 ],
 "metadata": {
  "kernelspec": {
   "display_name": "Python 3",
   "language": "python",
   "name": "python3"
  },
  "language_info": {
   "codemirror_mode": {
    "name": "ipython",
    "version": 3
   },
   "file_extension": ".py",
   "mimetype": "text/x-python",
   "name": "python",
   "nbconvert_exporter": "python",
   "pygments_lexer": "ipython3",
   "version": "3.7.7"
  }
 },
 "nbformat": 4,
 "nbformat_minor": 4
}
